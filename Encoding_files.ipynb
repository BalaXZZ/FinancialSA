{
 "cells": [
  {
   "cell_type": "code",
   "execution_count": 1,
   "id": "7929408c-fa52-4c9f-bb23-70296662fbb8",
   "metadata": {},
   "outputs": [
    {
     "name": "stdout",
     "output_type": "stream",
     "text": [
      "Encoded column 'Economic.Growth' and saved to EcoData_encoded.csv\n"
     ]
    }
   ],
   "source": [
    "import pandas as pd\n",
    "df = pd.read_csv(\"D:/MLrajaram/EcoData.csv\")\n",
    "col = df.columns[-1]\n",
    "mapping = {\n",
    "    \"flat\": 0,\n",
    "    \"up\":   1,\n",
    "    \"down\": 2\n",
    "}\n",
    "df[col] = df[col].map(mapping)\n",
    "df.to_csv(\"EcoData_encoded.csv\", index=False)\n",
    "print(f\"Encoded column '{col}' and saved to EcoData_encoded.csv\")"
   ]
  },
  {
   "cell_type": "code",
   "execution_count": 2,
   "id": "79a604f1-3890-49e7-82e7-a39b0a918182",
   "metadata": {},
   "outputs": [
    {
     "name": "stdout",
     "output_type": "stream",
     "text": [
      "Encoded column 'Employment.Growth' and saved to EmpData_encoded.csv\n"
     ]
    }
   ],
   "source": [
    "import pandas as pd\n",
    "df = pd.read_csv(\"D:/MLrajaram/EmpData.csv\")\n",
    "col = df.columns[-1]\n",
    "mapping = {\n",
    "    \"flat\": 0,\n",
    "    \"up\":   1,\n",
    "    \"down\": 2\n",
    "}\n",
    "df[col] = df[col].map(mapping)\n",
    "\n",
    "df.to_csv(\"EmpData_encoded.csv\", index=False)\n",
    "\n",
    "print(f\"Encoded column '{col}' and saved to EmpData_encoded.csv\")\n"
   ]
  },
  {
   "cell_type": "code",
   "execution_count": 3,
   "id": "2255ed3f-4f4c-4592-90e8-7bcb01b9f07b",
   "metadata": {},
   "outputs": [
    {
     "name": "stdout",
     "output_type": "stream",
     "text": [
      "Encoded column 'Inflation' and saved to EInflaData_encoded.csv\n"
     ]
    }
   ],
   "source": [
    "df=pd.read_csv('D:/MLrajaram/EInflaData.csv')\n",
    "col = df.columns[-1]\n",
    "mapping = {\n",
    "    \"flat\": 0,\n",
    "    \"up\":   1,\n",
    "    \"down\": 2\n",
    "}\n",
    "df[col] = df[col].map(mapping)\n",
    "df.to_csv(\"EInflaData_encoded.csv\", index=False)\n",
    "print(f\"Encoded column '{col}' and saved to EInflaData_encoded.csv\")"
   ]
  },
  {
   "cell_type": "code",
   "execution_count": 4,
   "id": "a931e2ce-a70b-45e2-8737-63caf61dab05",
   "metadata": {},
   "outputs": [
    {
     "name": "stdout",
     "output_type": "stream",
     "text": [
      "Encoded column 'Medium.Term.Rate' and saved to mRateData_encoded.csv\n"
     ]
    }
   ],
   "source": [
    "df=pd.read_csv('D:/MLrajaram/mRateData.csv')\n",
    "col = df.columns[-1]\n",
    "mapping = {\n",
    "    \"dove\": 0,\n",
    "    \"hawk\":   1\n",
    "}\n",
    "df[col] = df[col].map(mapping)\n",
    "df.to_csv(\"mRateData_encoded.csv\", index=False)\n",
    "print(f\"Encoded column '{col}' and saved to mRateData_encoded.csv\")"
   ]
  },
  {
   "cell_type": "code",
   "execution_count": 5,
   "id": "2b4235d9-dc56-4186-b90c-11f3aca9dcef",
   "metadata": {},
   "outputs": [
    {
     "name": "stdout",
     "output_type": "stream",
     "text": [
      "Encoded column 'Policy.Rate' and saved to PoData_encoded.csv\n"
     ]
    }
   ],
   "source": [
    "df=pd.read_csv('D:/MLrajaram/PoData.csv')\n",
    "col = df.columns[-1]\n",
    "mapping = {\n",
    "    \"flat\": 0,\n",
    "    \"up\":   1,\n",
    "    \"lower\": 2,\n",
    "    \"raise\":3,\n",
    "    \"down\":4\n",
    "}\n",
    "df[col] = df[col].map(mapping)\n",
    "df.to_csv(\"PoData_encoded.csv\", index=False)\n",
    "print(f\"Encoded column '{col}' and saved to PoData_encoded.csv\")"
   ]
  },
  {
   "cell_type": "code",
   "execution_count": null,
   "id": "b3a789ce",
   "metadata": {},
   "outputs": [],
   "source": []
  }
 ],
 "metadata": {
  "kernelspec": {
   "display_name": "sentiment36",
   "language": "python",
   "name": "python3"
  },
  "language_info": {
   "codemirror_mode": {
    "name": "ipython",
    "version": 3
   },
   "file_extension": ".py",
   "mimetype": "text/x-python",
   "name": "python",
   "nbconvert_exporter": "python",
   "pygments_lexer": "ipython3",
   "version": "3.6.13"
  }
 },
 "nbformat": 4,
 "nbformat_minor": 5
}
